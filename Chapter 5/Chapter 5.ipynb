{
 "cells": [
  {
   "cell_type": "markdown",
   "metadata": {},
   "source": [
    "<img src=\"./coverimage.jpg\"/>\n",
    "Cover Image: tabaca/Shutterstock"
   ]
  },
  {
   "cell_type": "markdown",
   "metadata": {},
   "source": [
    "# Chapter 5 - Data Science Topics"
   ]
  },
  {
   "cell_type": "markdown",
   "metadata": {},
   "source": [
    "## Install Python libraries"
   ]
  },
  {
   "cell_type": "code",
   "execution_count": null,
   "metadata": {},
   "outputs": [],
   "source": [
    "import warnings\n",
    "warnings.filterwarnings('ignore')\n",
    "\n",
    "!pip3 install numpy pandas scikit-learn scipy seaborn keras gensim networkx powerlaw sklearn-crfsuite"
   ]
  },
  {
   "cell_type": "markdown",
   "metadata": {},
   "source": [
    "## Import libraries"
   ]
  },
  {
   "cell_type": "code",
   "execution_count": null,
   "metadata": {},
   "outputs": [],
   "source": [
    "import os\n",
    "import sys\n",
    "import math\n",
    "import string\n",
    "import operator\n",
    "import pickle\n",
    "import urllib.request\n",
    "\n",
    "import numpy as np\n",
    "import random as rd\n",
    "from itertools import chain\n",
    "import pandas as pd\n",
    "import seaborn as sns\n",
    "\n",
    "import nltk\n",
    "from nltk.corpus import stopwords\n",
    "from nltk.sentiment import SentimentIntensityAnalyzer\n",
    "\n",
    "stopwords.words('english')\n",
    "nltk.download('conll2002')\n",
    "nltk.download('vader_lexicon')\n",
    "\n",
    "import networkx as nx \n",
    "from networkx.algorithms.community.modularity_max import greedy_modularity_communities\n",
    "\n",
    "from sklearn.feature_extraction.text import TfidfVectorizer\n",
    "from sklearn.metrics import confusion_matrix, classification_report, precision_recall_fscore_support, accuracy_score, roc_auc_score, roc_curve, auc, make_scorer\n",
    "from sklearn.metrics.pairwise import cosine_similarity\n",
    "from sklearn.model_selection import train_test_split, cross_val_score, RandomizedSearchCV\n",
    "from sklearn.manifold import TSNE\n",
    "from sklearn.linear_model import LinearRegression\n",
    "from sklearn.decomposition import PCA\n",
    "\n",
    "import sklearn_crfsuite\n",
    "from sklearn_crfsuite import scorers\n",
    "\n",
    "from gensim.models import KeyedVectors\n",
    "\n",
    "import scipy.stats\n",
    "from scipy import spatial\n",
    "from scipy.integrate import odeint\n",
    "\n",
    "import matplotlib\n",
    "from matplotlib import pyplot as plt\n",
    "import matplotlib.patches as patches\n",
    "from matplotlib.ticker import PercentFormatter"
   ]
  },
  {
   "cell_type": "markdown",
   "metadata": {},
   "source": [
    "## Plot settings"
   ]
  },
  {
   "cell_type": "code",
   "execution_count": null,
   "metadata": {},
   "outputs": [],
   "source": [
    "%matplotlib inline\n",
    "\n",
    "params = {'legend.fontsize': 'xx-large',\n",
    "          'figure.figsize': (14, 14),\n",
    "         'axes.labelsize': 'xx-large',\n",
    "         'axes.titlesize':'xx-large',\n",
    "         'xtick.labelsize':'xx-large',\n",
    "         'ytick.labelsize':'xx-large'}\n",
    "\n",
    "xxlarge = 16\n",
    "xlarge = 16\n",
    "large = 12\n",
    "\n",
    "plt.rcParams.update(params)\n",
    "plt.rcParams['font.size'] = '26'\n",
    "\n",
    "# Plot style\n",
    "sns.set()\n",
    "sns.set_style(\"white\")"
   ]
  },
  {
   "cell_type": "markdown",
   "metadata": {},
   "source": [
    "## Helper functions"
   ]
  },
  {
   "cell_type": "code",
   "execution_count": null,
   "metadata": {},
   "outputs": [],
   "source": [
    "import requests\n",
    "import gzip\n",
    "import shutil\n",
    "from pathlib import Path\n",
    "\n",
    "# Function to download and unzip the file\n",
    "def download_and_unzip(url, output_folder):\n",
    "    output_folder = Path(output_folder)\n",
    "    output_folder.mkdir(parents=True, exist_ok=True)\n",
    "\n",
    "    # Extracting the filename from the URL\n",
    "    filename = url.split('/')[-1]\n",
    "    output_gz_path = output_folder / filename\n",
    "    output_txt_path = output_folder / filename.replace('.gz', '').replace('.zip', '')\n",
    "\n",
    "    # Downloading the file\n",
    "    print(f\"Downloading {filename}...\")\n",
    "    response = requests.get(url, stream=True)\n",
    "    response.raise_for_status()  # Check if request was successful\n",
    "\n",
    "    with open(output_gz_path, 'wb') as f:\n",
    "        f.write(response.content)\n",
    "    print(f\"Downloaded {filename}.\")\n",
    "\n",
    "    # Unzipping the file\n",
    "    print(f\"Unzipping {filename}...\")\n",
    "    with gzip.open(output_gz_path, 'rb') as f_in:\n",
    "        with open(output_txt_path, 'wb') as f_out:\n",
    "            shutil.copyfileobj(f_in, f_out)\n",
    "    print(f\"Unzipped to {output_txt_path}.\")\n",
    "\n",
    "    # Optionally delete the .gz file\n",
    "    output_gz_path.unlink()\n",
    "    print(f\"Deleted {filename}.\")\n",
    "\n",
    "def getEvaluationReport(expected_y, predicted_y):\n",
    "    f1_report = classification_report(expected_y, predicted_y, target_names=['1','2'])\n",
    "    micro_f1 = precision_recall_fscore_support(expected_y, predicted_y, average='micro')\n",
    "    macro_f1 = precision_recall_fscore_support(expected_y, predicted_y, average='macro')\n",
    "    print(f1_report)\n",
    "    print(\"micro avg\", micro_f1[0], micro_f1[1])\n",
    "    \n",
    "def getConfusionMatrix(test_y, pred_y):\n",
    "    # plotting graph for confusion matrix\n",
    "    cm = confusion_matrix(test_y, pred_y)\n",
    "    \n",
    "    plt.figure(figsize=(5,5))\n",
    "    \n",
    "    sns.heatmap(cm, annot=True, cbar=False, linewidths=2, xticklabels = ['Negative (0)','Positive (1)'], yticklabels = ['Negative (0)','Positive (1)'], square=True, fmt=\"d\")\n",
    "    \n",
    "    plt.title('confusion matrix')\n",
    "    plt.xlabel('Predictive values', fontsize=16)\n",
    "    plt.ylabel('Actual values', fontsize=16);\n"
   ]
  },
  {
   "cell_type": "markdown",
   "metadata": {},
   "source": [
    "### 5.1 Searching, Ranking and Rating"
   ]
  },
  {
   "attachments": {
    "figure5_1.png": {
     "image/png": "[encoded data removed]"
    }
   },
   "cell_type": "markdown",
   "metadata": {},
   "source": [
    "![figure5_1.png](attachment:figure5_1.png)"
   ]
  },
  {
   "cell_type": "markdown",
   "metadata": {},
   "source": [
    "Figure 5.1: The architecture of a prototype search engine."
   ]
  },
  {
   "attachments": {
    "Figure5_2.png": {
     "image/png": "[encoded data removed]"
    }
   },
   "cell_type": "markdown",
   "metadata": {},
   "source": [
    "![Figure5_2.png](attachment:Figure5_2.png)"
   ]
  },
  {
   "cell_type": "markdown",
   "metadata": {},
   "source": [
    "Figure 5.2: Basic crawler algorithm."
   ]
  },
  {
   "cell_type": "markdown",
   "metadata": {},
   "source": [
    "### 5.1.1 The Vector Space Model"
   ]
  },
  {
   "cell_type": "markdown",
   "metadata": {},
   "source": [
    "**Example 5.1**: To illustrate TF-IDF we make use of a small corpus of BBC news articles on recent events including inflation brought about by rising en\u0002ergy costs, and recent military conflicts; or a sample of the data see Table 5.1. The data is composed of the text from each article, which is pre-processed into words (or tokens), and with stop words removed. The TF values of the full sample documents are shown in Table 5.2, while the IDF values are shown in Table 5.3, and the TF-IDF values are shown in Table 5.4."
   ]
  },
  {
   "cell_type": "code",
   "execution_count": null,
   "metadata": {},
   "outputs": [],
   "source": [
    "document_folder = './data/text/'\n",
    "corpus = os.listdir(document_folder)\n",
    "\n",
    "documents = {}\n",
    "for filename in sorted(corpus):\n",
    "    f = open(document_folder + filename, 'rb')\n",
    "    text = f.read().decode('utf8')\n",
    "    documents[filename] = text\n",
    "    f.close()\n",
    "\n",
    "df_docs = pd.DataFrame.from_dict(documents, orient='index', columns = [\"Headline text\"])\n",
    "print(df_docs.head())    "
   ]
  },
  {
   "cell_type": "markdown",
   "metadata": {},
   "source": [
    "Table 5.1: Sample data composed of five BBC news articles on recent events including inflation, politics and world conflicts."
   ]
  },
  {
   "cell_type": "code",
   "execution_count": null,
   "metadata": {},
   "outputs": [],
   "source": [
    "bagOfWords = {}\n",
    "vocabulary = set()\n",
    "uniqueWords = {}\n",
    "numOfWords = {}\n",
    "documents = {}\n",
    "keys = ['inflation', 'bank', 'interest', 'tax', 'russia', 'ukraine', 'china']\n",
    "\n",
    "for docid in df_docs.index:\n",
    "    text = df_docs['Headline text'][docid]\n",
    "    \n",
    "    # Some simple preprocessing\n",
    "    for s in string.punctuation:\n",
    "        text = text.replace(s, \" \")\n",
    "        \n",
    "    for i in \"1234567890\":\n",
    "        text = text.replace(i, \"\")\n",
    "        \n",
    "    # Split into words (tokens)\n",
    "    tokens = text.lower().replace('\\r', '').replace('\\n', '').split(' ')\n",
    "    documents[docid] = \" \".join(tokens)\n",
    "    \n",
    "    bagOfWords[docid] = [word for word in tokens if not word in stopwords.words()]\n",
    "\n",
    "    # Compile lists of all vocabulary and unique words\n",
    "    for word in bagOfWords[docid]:\n",
    "        word = word.lstrip().rstrip()\n",
    "        if word == '': continue\n",
    "            \n",
    "        vocabulary.add(word)\n",
    "        uniqueWords[docid] = set(bagOfWords[docid])   \n",
    "\n",
    "    # Compile word frequencies    \n",
    "    numOfWords[docid] = dict.fromkeys(uniqueWords[docid], 0)\n",
    "    for word in bagOfWords[docid]:\n",
    "        numOfWords[docid].setdefault(word, 0)\n",
    "        numOfWords[docid][word] += 1\n",
    "    #print(numOfWords.keys())\n",
    "\n",
    "allWords = []\n",
    "for docId in numOfWords.keys():\n",
    "    allWords.append(numOfWords[docId])\n",
    "    #print(len(allWords))"
   ]
  },
  {
   "cell_type": "code",
   "execution_count": null,
   "metadata": {},
   "outputs": [],
   "source": [
    "def computeTF(wordDict, bagOfWords):\n",
    "    tfDict = {}\n",
    "    bagOfWordsCount = len(bagOfWords)\n",
    "    for word, count in wordDict.items():\n",
    "        tfDict[word] = count / float(bagOfWordsCount)    \n",
    "    return tfDict\n",
    "\n",
    "doc_tf = {}\n",
    "for docid in sorted(numOfWords.keys()):     \n",
    "    doc_tf[docid] = computeTF(numOfWords[docid], bagOfWords[docid])\n",
    "\n",
    "df_tf = pd.DataFrame.from_dict(doc_tf, orient='index', \n",
    "                               columns = keys).fillna(0)\n",
    "print(df_tf[keys].head().to_latex())"
   ]
  },
  {
   "cell_type": "markdown",
   "metadata": {},
   "source": [
    "Table 5.2: Sample of the term frequency (TF) of words in the corpus of BBC news articles. There are five news articles (BBC) identified by the document ID (DocID), with words in the vocabulary of all documents in the columns, document ids in rows (in column DocID), and the cells represent the term frequency (TF) of words given the document."
   ]
  },
  {
   "cell_type": "code",
   "execution_count": null,
   "metadata": {},
   "outputs": [],
   "source": [
    "def computeIDF(documents):\n",
    "    N = len(documents)\n",
    "    idfDict = dict.fromkeys(documents[0].keys(), 0)\n",
    "    for document in documents:\n",
    "        for word, val in document.items():\n",
    "            idfDict.setdefault(word, 0)\n",
    "            idfDict[word] += 1\n",
    "    \n",
    "    for word, val in idfDict.items():\n",
    "        idfDict[word] = math.log(N / float(val))\n",
    "    return idfDict\n",
    "\n",
    "\n",
    "idfs = computeIDF(allWords)\n",
    "\n",
    "temp = []\n",
    "for word in keys:\n",
    "    idf = idfs.get(word, None)\n",
    "    if idf != None:\n",
    "        temp.append((word, idf))\n",
    "df_idf = pd.DataFrame(temp).fillna(0)\n",
    "#df_idf.columns = [\"IDF\"]\n",
    "print(df_idf.head(10).to_latex())"
   ]
  },
  {
   "cell_type": "code",
   "execution_count": null,
   "metadata": {},
   "outputs": [],
   "source": [
    "# TFIDF\n",
    "vectorizer = TfidfVectorizer()\n",
    "vectors = vectorizer.fit_transform(documents.values())\n",
    "\n",
    "feature_names = vectorizer.vocabulary_.keys()\n",
    "\n",
    "dense = vectors.todense()\n",
    "denselist = dense.tolist()\n",
    "\n",
    "TFIDF_df = pd.DataFrame(denselist, columns=feature_names)\n",
    "print(TFIDF_df.head())"
   ]
  },
  {
   "cell_type": "markdown",
   "metadata": {},
   "source": [
    "Table 5.3: A sample of the Inverse Document Frequency (IDF) of words in the corpus of BBC news articles. There are five news articles (BBC) identified by the document ID (DocID), with words in the vocabulary of all documents in the columns, document ids in rows (in column DocID), and the cells represent the Inverse Document Frequency (IDF) of words given the document."
   ]
  },
  {
   "cell_type": "code",
   "execution_count": null,
   "metadata": {},
   "outputs": [],
   "source": [
    "def computeTFIDF(tfBagOfWords, idfs):\n",
    "    tfidf = {}\n",
    "    for word, val in tfBagOfWords.items():\n",
    "        tfidf[word] = val * idfs[word]\n",
    "    return tfidf\n",
    "\n",
    "idfs = computeIDF(allWords)\n",
    "doc_tfidf = {}\n",
    "for docid in numOfWords.keys():     \n",
    "    doc_tfidf[docid] = computeTFIDF(doc_tf[docid], idfs)\n",
    "\n",
    "df_tfidf = pd.DataFrame.from_dict(doc_tfidf, orient='index', columns =keys).fillna(0)\n",
    "print(df_tfidf[keys].head())"
   ]
  },
  {
   "cell_type": "markdown",
   "metadata": {},
   "source": [
    "Table 5.4: A sample of the Term Frequency-Inverse Document Frequency (TF-IDF) of words in the corpus of BBC news articles. There are five news articles (BBC) identified by the document ID (DocID), with words in the vocabulary of all documents in the columns, document ids in rows (in col\u0002umn DocID), and the cells represent the Term Frequency-Inverse Document Frequency (TF-IDF) of words given the document."
   ]
  },
  {
   "cell_type": "markdown",
   "metadata": {},
   "source": [
    "### 5.1.2 Ranking with PageRank"
   ]
  },
  {
   "cell_type": "markdown",
   "metadata": {},
   "source": [
    "**Example 5.2**: In Figure 5.3 we show a simple web graph with five web pages.The random surfer starting at page B has four choices, so with probability of 1/4 the surfer will choose one of them, say C. Page C has only one outlink to E, so the surfer must move to that page. From E there are two outlinks, one back to C and the other to D. Thus the random surfer continues on the mission ad infinitum. But, what does the surfer do when reaching page A? This page, which does not have any outlink, is dangling. As a real world example, we use data released in 2002, as a part of Google’s programming contest. The web graph contains over 916,000 web pages with 5.1 million links. For the purpose of illustration, we use a small sample of 1299 web pages, i.e. its nodes, with the 2773 links between them, i.e. its edges; ten of the web pages from the small sample of this web graph are shown in tabular form in Table 5.5."
   ]
  },
  {
   "cell_type": "code",
   "execution_count": null,
   "metadata": {},
   "outputs": [],
   "source": [
    "temp = {}\n",
    "# FRom Marks web search engine graph\n",
    "# Calculate and show the pagerank for the small 5 doc graph from Marks book\n",
    "\n",
    "# Calculate the pagerank for the web example too.\n",
    "G_tmp = nx.read_edgelist('./data/pagerank-mark.txt', create_using = nx.DiGraph)\n",
    "\n",
    "# created a directed graph # LOOK AT DANGLING NODES\n",
    "T = 0.15\n",
    "pr = nx.pagerank(G_tmp, alpha=1-T) # Default damping factor = alpha = 0.85\n",
    "print(\"page rank\", pr.items(), \"SUM\", sum(pr.values()))\n",
    "for p in pr.keys():\n",
    "\n",
    "    print(p, '{:.5f}'.format(pr[p]))\n",
    "\n",
    "#draw a graph\n",
    "nx.draw(G_tmp,with_labels=True,font_color='black', alpha=0.7, arrows=None, font_size=10, node_color='red', node_size=200)"
   ]
  },
  {
   "attachments": {
    "37b0bb6d-17e0-482d-8835-8cbfb7c78173.PNG": {
     "image/png": "[encoded data removed]"
    }
   },
   "cell_type": "markdown",
   "metadata": {},
   "source": [
    "![example5_pagerank1.PNG](attachment:37b0bb6d-17e0-482d-8835-8cbfb7c78173.PNG)"
   ]
  },
  {
   "cell_type": "markdown",
   "metadata": {},
   "source": [
    "Figure 5.3: A very small web graph with five web pages, used to illustrate PageRank; the actual PageRank values are shown beside the web pages."
   ]
  },
  {
   "cell_type": "markdown",
   "metadata": {},
   "source": [
    "#### Download the Google webgraph dataset (71MB)"
   ]
  },
  {
   "cell_type": "code",
   "execution_count": null,
   "metadata": {},
   "outputs": [],
   "source": [
    "url = \"https://snap.stanford.edu/data/web-Google.txt.gz\"\n",
    "output_folder = \"./data/\"\n",
    "download_and_unzip(url, output_folder)"
   ]
  },
  {
   "cell_type": "code",
   "execution_count": null,
   "metadata": {},
   "outputs": [],
   "source": [
    "f = open('./data/web-Google.txt',\"r\")\n",
    "temp = {}\n",
    "err = 0\n",
    "for row in f.readlines():\n",
    "    if row[0] == '#': continue\n",
    "    try:\n",
    "        n1, n2 = row.replace(\"\\n\",\"\").split(\"\\t\")\n",
    "    except: \n",
    "        err += 1\n",
    "        print(row)\n",
    "        continue\n",
    "    temp.setdefault(n2, 0)\n",
    "    temp[n2] += 1\n",
    "print(err)\n",
    "\n",
    "# Use a smaller version for visualisation\n",
    "G_tmp = nx.read_edgelist('./data/web-Google_small.txt', create_using = nx.DiGraph)\n",
    "\n",
    "# create a directed graph based on a smaller sample.\n",
    "pr = nx.pagerank(G_tmp, alpha=1-T) # Default damping factor = alpha = 0.85\n",
    "\n",
    "table = []\n",
    "for p in pr.keys():\n",
    "   # if pr[p] > 0.001:\n",
    "    if temp.get(p, None) == None: \n",
    "        continue\n",
    "    table.append([p, temp[p], pr[p]])\n",
    "        \n",
    "temp = []\n",
    "for r in sorted(table, key=lambda x:x[1], reverse=True)[:10]:\n",
    "    nodeid, inlinks, pagerank = r\n",
    "    #print((nodeid, inlinks, pagerank))\n",
    "    temp.append((nodeid, inlinks, '{:.5f}'.format(pagerank)))\n",
    "\n",
    "df = pd.DataFrame(sorted(temp, key=lambda x: x[2], reverse=True) ,columns=['Node', '#inlinks', 'PageRank'])\n",
    "print(df.head(10).to_latex())"
   ]
  },
  {
   "cell_type": "markdown",
   "metadata": {},
   "source": [
    "Table 5.5: Ten web pages from the Google 2002 web graph small sample, in descending order of inlinks. The first column gives the node ID of the web page, the second column gives the number of its inlinks, and the final column give its PageRank."
   ]
  },
  {
   "cell_type": "markdown",
   "metadata": {},
   "source": [
    "**Example 5.3**: To illustrate the h-index we have to count of citations of ev\u0002ery publication for an author. We can then create a citation vector by ordering the publications according to the counts of citations in descending order. We present h-index for two researchers, Albert Einstein (with citation statistics: min=1, mean=434, max=22202, h-index=165) and an anonymous theoretical physicist (with citation statistics: min=1, mean=166, max=3004 \n",
    "h-index=63); min, mean and max denote the minimum number, mean nu\u0002ber and maximum number of citations per paper, respectively. In Table .5  \r\n",
    "we show the top-10 cited papers contained in Albert Einstein’s citation vc\u0002tor, where his top cited publication, which received a total of 222c2 cia\u0002tions, appears as rank 1. Figure 5.4 shows a plot of the top-100 cited pep  s\r\n",
    "of Albert Einstein and the anonymous theoretical physicist; these plots  re\r\n",
    "called a citation curves. We note that their h-indices induce a squure   der\r\n",
    "the citation curve, as highlighted in the fure.\r"
   ]
  },
  {
   "cell_type": "code",
   "execution_count": null,
   "metadata": {},
   "outputs": [],
   "source": [
    "def h_index(citations):\n",
    "    \n",
    "    citations = np.array(citations)\n",
    "    n         = citations.shape[0]\n",
    "    array     = np.arange(1, n+1)\n",
    "       \n",
    "    # total number of citations for each k; k varies from 1 to n\n",
    "    result    = citations >= array.reshape((-1,1))\n",
    "    result    = result.sum(axis=1) \n",
    " \n",
    "    # selecting articles with least k citations for each k; \n",
    "    result    = result >= array\n",
    "    \n",
    "    # choosing the highest value of k\n",
    "    h_idx    = array[result][-1]\n",
    "        \n",
    "    return h_idx\n",
    "\n",
    "\n",
    "# Research 1\n",
    "df = pd.read_csv('./data/h_index_Einstein.txt', names=['citations'])\n",
    "citations = np.array(df['citations'].to_list())\n",
    "publication = [i+1 for i in range(len(citations))]\n",
    "\n",
    "h = h_index(citations)\n",
    "print(df.head(10))\n",
    "\n",
    "x1 = np.array(publication)#[:limit])\n",
    "y1 = np.array(citations)#[:limit])\n",
    "\n",
    "# Research 2\n",
    "df = pd.read_csv('./data/h_index_Quigg.txt', names=['citations'])\n",
    "citations2 = np.array(df['citations'].to_list())\n",
    "publication2 = [i+1 for i in range(len(citations2))]\n",
    "h2 = h_index(citations2)\n",
    "\n",
    "x2 = np.array(publication2)\n",
    "y2 = np.array(citations2)"
   ]
  },
  {
   "cell_type": "markdown",
   "metadata": {},
   "source": [
    "Table 5.6: A sample including the top-10 cited publications contained in Albert Einstein’s citation vector."
   ]
  },
  {
   "cell_type": "code",
   "execution_count": null,
   "metadata": {
    "scrolled": true
   },
   "outputs": [],
   "source": [
    "limit = 200\n",
    "\n",
    "maxy = max(max(y1), max(y2)) \n",
    "\n",
    "fig, axes = plt.subplots(nrows=1, ncols=2, figsize=(10, 10), sharey=False)\n",
    "\n",
    "axes[0].set_xlabel(\"Publication\")\n",
    "axes[0].set_ylabel(\"Citations\")\n",
    "\n",
    "axes[1].set_xlabel(\"Publication\")\n",
    "axes[1].set_ylabel(\"Citations\")\n",
    "\n",
    "axes[0].set_ylim(0,530)\n",
    "axes[1].set_ylim(0,530)\n",
    "\n",
    "axes[0].set_xlim(0,limit)\n",
    "axes[1].set_xlim(0,limit)\n",
    "\n",
    "axes[0].fill_between(x1, y1, color='salmon')\n",
    "axes[1].fill_between(x2, y2, color='salmon')\n",
    "\n",
    "# Create a Rectangle patch\n",
    "# Add the patch to the Axe\n",
    "rect = patches.Rectangle((0, 0), h, h, linewidth=1, edgecolor='b', facecolor='none')\n",
    "axes[0].add_patch(rect)\n",
    "\n",
    "rect = patches.Rectangle((0, 0), h2, h2, linewidth=1, edgecolor='b', facecolor='none')\n",
    "axes[1].add_patch(rect)\n",
    "\n",
    "# Plot 1 label adjustment\n",
    "labels = axes[0].get_yticks().tolist()\n",
    "size = len(labels)\n",
    "for i in range(size):\n",
    "    label = labels[i]\n",
    "    try:\n",
    "        labels[i] = int(label)\n",
    "    except:\n",
    "        pass\n",
    "    if i == size-3:\n",
    "        label = \"...\"\n",
    "        labels[i] = label\n",
    "    if i == size-2:\n",
    "        label = max(citations)\n",
    "        label = f\"{label:,}\"\n",
    "        print(label)\n",
    "        labels[i] = label\n",
    "axes[0].set_yticklabels(labels)\n",
    "\n",
    "# Plot 2 label adjustment\n",
    "labels2 = axes[1].get_yticks().tolist()\n",
    "size = len(labels2)\n",
    "for i in range(size):\n",
    "    label = labels2[i]\n",
    "    try:\n",
    "        labels2[i] = int(label)\n",
    "    except:\n",
    "        pass\n",
    "    if i == size-3:\n",
    "        label = \"...\"\n",
    "        labels2[i] = label\n",
    "    if i == size-2:\n",
    "        label = max(citations2)\n",
    "        label = f\"{label:,}\"\n",
    "        labels2[i] = label\n",
    "\n",
    "axes[1].set_yticklabels(labels2)\n",
    "axes[1].set_ylabel(\"\")\n",
    "\n",
    "axes[0].annotate(\"h=\"+str(h), xy=(3, 1),  xycoords='data', xytext=(0.8, 0.35), textcoords='axes fraction')\n",
    "axes[1].annotate(\"h=\"+str(h2), xy=(1, 1),  xycoords='data', xytext=(0.27, 0.15), textcoords='axes fraction')\n",
    "\n",
    "plt.tight_layout()"
   ]
  },
  {
   "cell_type": "markdown",
   "metadata": {},
   "source": [
    "Figure 5.4: A citation curve plot of the top-100 cited publications contained in Albert Einstein’s citation vector, whose h-index is 165 (left plot), and cor\u0002respondingly the top-100 cited publications contained in the citation vector of an anonymous theoretical physicist whose h-index is 63 (right plot). The index of publications is shown along the x-axis, and the number of citations per publication is shown on the y-axis."
   ]
  },
  {
   "cell_type": "markdown",
   "metadata": {},
   "source": [
    "### 5.1.3 Rating with the Elo System"
   ]
  },
  {
   "cell_type": "markdown",
   "metadata": {},
   "source": [
    "**Example 5.4**. The Elo rating of the top-10 ranking chess masters as of\n",
    "June 2022 based is shown in Table 5.7. The Elo score of each player will\n",
    "go up or down depending on how well they perform in tournaments against\n",
    "other rated players. We note that a novice chess player typically has a\n",
    "rating of 1200 or below, while a chess masters rating is typically 2200 or\n",
    "above. The ratings of the top-10 players are far above 2500, which is the\n",
    "threshold for grandmaster status. Moreover, players achieving a rating of\n",
    "2700 or above are considered to be super grandmaster; the rating list as\n",
    "of June 2022 contained 38 super grandmasters. The top-100 players, as of\n",
    "June 2022, all had an Elo rating of greater than 2650, and 38 players had a\n",
    "rating of 2700 or above.\n"
   ]
  },
  {
   "cell_type": "code",
   "execution_count": null,
   "metadata": {},
   "outputs": [],
   "source": [
    "df = pd.read_csv('./data/Elo_chess players.csv')\n",
    "df.columns = ['Rank','Name','Nationality','Elo score']\n",
    "print(df.head(10))"
   ]
  },
  {
   "cell_type": "markdown",
   "metadata": {},
   "source": [
    "Table 5.7: The top-10 Elo ratings of chess players as of June 2022."
   ]
  },
  {
   "cell_type": "markdown",
   "metadata": {},
   "source": [
    "### 5.1.4 Recommender Systems and Collaborative Filtering"
   ]
  },
  {
   "cell_type": "markdown",
   "metadata": {},
   "source": [
    "**Example 5.5**: We first demonstrate item-based CF on a movie data set constructed by MovieLens, consisting of 9,742 movies. The data set is rep\u0002resented in a item-user matrix, where each row in the data set represents an item (in this case a movie), while each column represents a user (or alternatively, a viewer); note the item-user matrix is the transpose of the rating matrix. The number in each cell is a rating between 1 and 10 given by the viewer between 1 and 10, or an empty cell when the viewer did not rate that item. In practice recommender systems often use a star system, where there are 5 stars or equivalently 10 half stars, which is identical to the 10 point rating system. A sample of the item-user matrix for five users and movies is shown in Table 5.8. Viewers only watch and rate a small subset of the full movies available, and so the full matrix of movies and user scores is very sparse, and thus there are very few scores for each movie, which may have an impact on the results of recommendation systems. The mean movie rating is derived from only those viewers who rated the movie and does not take into account movies that have no ratings. The top-5 movies watched by V1, are shown in Table 5.9."
   ]
  },
  {
   "cell_type": "code",
   "execution_count": null,
   "metadata": {},
   "outputs": [],
   "source": [
    "import statistics, random\n",
    "from sklearn.neighbors import NearestNeighbors\n",
    "\n",
    "ratings = pd.read_csv('./data/ratings.csv', usecols=['userId','movieId','rating'])\n",
    "movies = pd.read_csv('./data/movies.csv', usecols=['movieId','title'])\n",
    "ratings2 = pd.merge(ratings, movies, how='inner', on='movieId')\n",
    "\n",
    "df = ratings2.pivot_table(index='title',columns='userId',values='rating').fillna(0)\n",
    "df1 = df.copy()\n",
    "\n",
    "\n",
    "temp = []\n",
    "all_means = []\n",
    "filter = [\"Sabrina (1995)\", \"Sudden Death (1995)\", \"Toy Story (1995)\", \"Jumanji (1995)\", \"Tom and Huck (1995)\"]\n",
    "\n",
    "for (k, i) in df1.iterrows():\n",
    "    for f in filter:\n",
    "        if f in k:\n",
    "            #print(k, i)\n",
    "            vals = [int(x * 2) for x in i]\n",
    "            avg = statistics.mean(vals)\n",
    "            temp.append([k] + vals + [avg])\n",
    "            all_means.append(avg)\n",
    "\n",
    "\n",
    "df2 = pd.DataFrame(temp)\n",
    "\n",
    "df3 = df2[[0, 601, 602,603,604,605, 611]].copy()\n",
    "user_labels = ['V_{a}', 'V_{2}', 'V_{3}', 'V_{4}','V_{5}']\n",
    "df3.columns = ['Movie_title', 'V_{a}', 'V_{2}', 'V_{3}', 'V_{4}','V_{5}', 'Mean movie rating']\n",
    "\n",
    "temp = []\n",
    "for v in user_labels:\n",
    "    temp.append(df3[v].mean())\n",
    "    all_means.append(df3[v].mean())\n",
    "\n",
    "temp.append(statistics.mean(all_means))\n",
    "\n",
    "df3.loc[df3.shape[0]+1] = ['Mean user rating'] + temp\n",
    "\n",
    "df3.head(6)"
   ]
  },
  {
   "cell_type": "markdown",
   "metadata": {},
   "source": [
    "Table 5.8: A sample of movies and viewer ratings per movie, with the mean\n",
    "movie rating in the final column, and the mean user rating in the final row."
   ]
  },
  {
   "cell_type": "code",
   "execution_count": null,
   "metadata": {},
   "outputs": [],
   "source": [
    "df4 = ratings2[ratings2['userId'] == 1].copy()\n",
    "df4['rating'] = df4['rating'] * 2 # 5 star to 10 star conversion, due to 0.5 ratings\n",
    "df4[['title', 'rating']].sample(n=5, random_state=9).sort_values('rating', ascending=False).head()"
   ]
  },
  {
   "cell_type": "markdown",
   "metadata": {},
   "source": [
    "Table 5.9: The top-5 movies watched by viewer V1, including the title and rating."
   ]
  },
  {
   "cell_type": "code",
   "execution_count": null,
   "metadata": {},
   "outputs": [],
   "source": [
    "\n",
    "def recommend_movies(user, num_recommended_movies):\n",
    "    recommended_movies = []\n",
    "    temp = []\n",
    "    for m in df[df[user] > 0].index.tolist():\n",
    "    \n",
    "        index_df = df.index.tolist().index(m)\n",
    "        predicted_rating = df1.iloc[index_df, df1.columns.tolist().index(user)]\n",
    "        \n",
    "        recommended_movies.append((m, predicted_rating * 2)) # 10 star rating\n",
    "    #print(recommended_movies)\n",
    "    \n",
    "    sorted_rm = sorted(recommended_movies, key=lambda x:x[1], reverse=True)\n",
    "    \n",
    "    #print('The list of the Recommended Movies \\n')\n",
    "    rank = 1\n",
    "    \n",
    "    for recommended_movie in sorted_rm:#[:num_recommended_movies]:\n",
    "        temp.append(recommended_movie)\n",
    "        \n",
    "        #rank = rank + 1\n",
    "        #if rank > 5: break\n",
    "\n",
    "    df5 = pd.DataFrame(temp)\n",
    "    \n",
    "    df5.columns = ['Title', 'Score']\n",
    "    return df5.sample(10, random_state=2).head().sort_values('Score', ascending=False)\n",
    "\n",
    "\n",
    "df6 = recommend_movies(1, 5)\n",
    "df6.head()"
   ]
  },
  {
   "cell_type": "markdown",
   "metadata": {},
   "source": [
    "Table 5.10: The top-5 recommended movies for V1 based the history of movies watched by the viewer, employing KNN with k = 3."
   ]
  },
  {
   "cell_type": "code",
   "execution_count": null,
   "metadata": {},
   "outputs": [],
   "source": [
    "#Correlation matrix\n",
    "df7 = df2.loc[:, [i for i in range(603,609)]].corr().head()\n",
    "df7.columns = 'V_{r1}', 'V_{r2}', 'V_{r3}', 'V_{r4}', 'V_{r5}', 'V_{r6}'\n",
    "df7.head()"
   ]
  },
  {
   "cell_type": "markdown",
   "metadata": {},
   "source": [
    "Table 5.11: A small sample of 11 random users Vr1 to Vr11 from the user\u0002user correlation matrix, based on their movie rating profile. The matrix\n",
    "showing how similar their movie ratings are to other users in the range of\n",
    "-1 to 1."
   ]
  },
  {
   "cell_type": "code",
   "execution_count": null,
   "metadata": {},
   "outputs": [],
   "source": [
    "\n",
    "def movie_recommender(user, num_neighbors, num_recommendation):\n",
    "  \n",
    "  number_neighbors = num_neighbors\n",
    "\n",
    "  knn = NearestNeighbors(metric='cosine', algorithm='brute')\n",
    "  knn.fit(df.values)\n",
    "  distances, indices = knn.kneighbors(df.values, n_neighbors=number_neighbors)\n",
    "\n",
    "  user_index = df.columns.tolist().index(user)\n",
    "\n",
    "  for m,t in list(enumerate(df.index)):\n",
    "    if df.iloc[m, user_index] == 0:\n",
    "      sim_movies = indices[m].tolist()\n",
    "      movie_distances = distances[m].tolist()\n",
    "    \n",
    "      if m in sim_movies:\n",
    "        id_movie = sim_movies.index(m)\n",
    "        sim_movies.remove(m)\n",
    "        movie_distances.pop(id_movie) \n",
    "\n",
    "      else:\n",
    "        sim_movies = sim_movies[:num_neighbors-1]\n",
    "        movie_distances = movie_distances[:num_neighbors-1]\n",
    "           \n",
    "      movie_similarity = [1-x for x in movie_distances]\n",
    "      movie_similarity_copy = movie_similarity.copy()\n",
    "      nominator = 0\n",
    "      \n",
    "      for s in range(0, len(movie_similarity)):\n",
    "        if df.iloc[sim_movies[s], user_index] == 0:\n",
    "          if len(movie_similarity_copy) == (number_neighbors - 1):\n",
    "            movie_similarity_copy.pop(s)\n",
    "          \n",
    "          else:\n",
    "            movie_similarity_copy.pop(s-(len(movie_similarity)-len(movie_similarity_copy)))\n",
    "            \n",
    "        else:\n",
    "          nominator = nominator + movie_similarity[s]*df.iloc[sim_movies[s],user_index]\n",
    "          \n",
    "      if len(movie_similarity_copy) > 0:\n",
    "        if sum(movie_similarity_copy) > 0:\n",
    "          predicted_r = nominator/sum(movie_similarity_copy)\n",
    "        \n",
    "        else:\n",
    "          predicted_r = 0\n",
    "\n",
    "      else:\n",
    "        predicted_r = 0\n",
    "        \n",
    "      df1.iloc[m,user_index] = predicted_r\n",
    "  recommend_movies(user,num_recommendation)\n",
    "\n",
    "movie_recommender(1, 3, 5)"
   ]
  },
  {
   "cell_type": "markdown",
   "metadata": {},
   "source": [
    "Table 5.12: Top-5 recommended movies for viewer V1, based on the movie\n",
    "ratings of V1 and the user-user correlation matrix of similar users who have\n",
    "rated similar movies."
   ]
  },
  {
   "cell_type": "markdown",
   "metadata": {},
   "source": [
    "## 5.2 Social Networks"
   ]
  },
  {
   "cell_type": "markdown",
   "metadata": {},
   "source": [
    "### 5.2.1 The Basics of Social Networks"
   ]
  },
  {
   "cell_type": "markdown",
   "metadata": {},
   "source": [
    "**Example 5.6.** To introduce social networks we consider the karate club\n",
    "social network data set, captured by Wayne Zachary over a period of three\n",
    "years from 1970 to 1972. The network is based on 34 individuals who were\n",
    "members of a karate club. The data set records the edges (representing ties)\n",
    "between pairs of members (the nodes, representing actors) in the network,\n",
    "who interacted socially outside of the club. Figure 5.5 illustrates the conflict\n",
    "that arose between followers of the administrator (blue nodes) and followers\n",
    "of the instructor (red nodes). This conflict resulted in the division of the\n",
    "club, where half of the members moved on to create a new club with the\n",
    "previous instructor (red nodes), and the other group of members either found\n",
    "a new club, or gave up karate completely (blue nodes).\n"
   ]
  },
  {
   "cell_type": "code",
   "execution_count": null,
   "metadata": {},
   "outputs": [],
   "source": [
    "# Import the ZKC graph:\n",
    "G = nx.karate_club_graph()\n",
    "\n",
    "#Keep track of which nodes represent John A and Mr Hi\n",
    "Mr_Hi = 0\n",
    "John_A = 33\n",
    "\n",
    "# We use a ciruclar layout but there are other variations you can select\n",
    "circ_pos = nx.kamada_kawai_layout(G)#circular_layout(G) \n",
    "\n",
    "# Use the networkx draw function \n",
    "nx.draw(G,circ_pos)\n",
    "\n",
    "# Perform the community detection\n",
    "\n",
    "c = list(greedy_modularity_communities(G))\n",
    "\n",
    "# Find out how many communities we have\n",
    "print(\"There are\",len(c), \"communities (clusters)\")\n",
    "\n",
    "# Use 3 clusters\n",
    "community_0 = sorted(c[0])\n",
    "community_1 = sorted(c[1])\n",
    "community_2 = sorted(c[2])\n",
    "\n",
    "print(community_0)\n",
    "print(community_1)\n",
    "print(community_2)\n",
    "\n",
    "#draw each set of nodes in a seperate colour\n",
    "group1 = {}\n",
    "for i in community_0:\n",
    "    group1[i] = i + 1\n",
    "    \n",
    "group2 = {}\n",
    "for i in community_1:\n",
    "    group2[i] = i + 1\n",
    "\n",
    "group3 = {}\n",
    "for i in community_2:\n",
    "    group3[i] = i +1\n",
    "\n",
    "temp = {}\n",
    "for i in group1.keys():\n",
    "    temp[i] = group1[i]\n",
    "group1 = temp\n",
    "\n",
    "temp = {}\n",
    "for i in group3.keys():\n",
    "    temp[i] = group3[i]\n",
    "group3 = temp\n",
    "  \n",
    "combined_community = community_1 + community_2\n",
    "\n",
    "grp1 = nx.draw_networkx_nodes(G,circ_pos, nodelist=community_1, node_color='orange', alpha=1, node_size=700)\n",
    "grp2 = nx.draw_networkx_nodes(G,circ_pos, nodelist=community_2, node_color='orange', alpha=1, node_size=700)\n",
    "grp2 = nx.draw_networkx_nodes(G,circ_pos, nodelist=community_0, alpha=1, node_size=700)\n",
    "\n",
    "# Draw leaders.\n",
    "\n",
    "grp1 = nx.draw_networkx_nodes(G, circ_pos, nodelist=[Mr_Hi], node_color='orange', alpha=1, node_size=1000)\n",
    "grp2 = nx.draw_networkx_nodes(G, circ_pos, nodelist=[John_A], alpha=1, node_size=1000)\n",
    "grp1.set_edgecolor('black')\n",
    "grp2.set_edgecolor('black')\n",
    "\n",
    "nx.draw_networkx_labels(G, circ_pos, group1, font_size=13, font_color=\"white\", font_weight=\"bold\")\n",
    "nx.draw_networkx_labels(G, circ_pos, group2, font_size=13, font_color=\"black\", font_weight=\"bold\")\n",
    "nx.draw_networkx_labels(G, circ_pos, group3, font_size=13, font_color=\"black\", font_weight=\"bold\")\n",
    "\n",
    "# The degree function in networkx returns a DegreeView object capable of iterating through (node, degree) pairs\n",
    "degree = G.degree()\n",
    "\n",
    "degree_list = []\n",
    "\n",
    "for (n, d) in degree:\n",
    "    degree_list.append(d)\n",
    "\n",
    "av_degree = sum(degree_list) / len(degree_list)\n",
    "print('The average degree is ' + str(av_degree))\n",
    "\n",
    "# Now we can compute the local clustering coefficient\n",
    "local_clustering_coefficient = nx.algorithms.cluster.clustering(G)\n",
    "\n",
    "# lets find the average clustering coefficient\n",
    "av_local_clustering_coefficient = sum(local_clustering_coefficient.values())/len(local_clustering_coefficient)"
   ]
  },
  {
   "cell_type": "markdown",
   "metadata": {},
   "source": [
    "Figure 5.5: A visualisation of the karate club social network, with blue\n",
    "nodes representing followers of the administrator and red nodes representing\n",
    "followers of the instructor; node 33 represents the instructor.\n"
   ]
  },
  {
   "attachments": {
    "22c78c08-1f26-403d-a306-b0015f393ae9.PNG": {
     "image/png": "[encoded data removed]"
    }
   },
   "cell_type": "markdown",
   "metadata": {},
   "source": [
    "![example5_2Dgrid.PNG](attachment:22c78c08-1f26-403d-a306-b0015f393ae9.PNG)"
   ]
  },
  {
   "cell_type": "markdown",
   "metadata": {},
   "source": [
    "Figure 5.6: A two-dimensional grid with random shortcuts."
   ]
  },
  {
   "cell_type": "markdown",
   "metadata": {},
   "source": [
    "### 5.2.2 Centrality Measures"
   ]
  },
  {
   "cell_type": "markdown",
   "metadata": {},
   "source": [
    "**Example 5.7.** In Table 5.13 we show the centrality measure scores for the\n",
    "top-3 nodes in the karate club social network shown in Figure 5.5, noting\n",
    "that the centrality scores have been normalised to add up to 1. It can be\n",
    "verified that the spectral radius of this social network is 6.7257, and for\n",
    "the computation of the potential gain we set α = 0.5/ρ(G), which gives\n",
    "α = 0.0743.\n"
   ]
  },
  {
   "cell_type": "code",
   "execution_count": null,
   "metadata": {},
   "outputs": [],
   "source": [
    "# Import the ZKC graph:\n",
    "G = nx.karate_club_graph()\n",
    "\n",
    "# Degree dentrality\n",
    "degree_centrality = nx.degree_centrality(G)\n",
    "\n",
    "# Eigenvector Centrality\n",
    "eigenvector_centrality = nx.eigenvector_centrality(G)\n",
    "\n",
    "# Closeness Centrality\n",
    "closeness_centrality = nx.closeness_centrality(G)\n",
    "\n",
    "# Betweenness Centrality\n",
    "betweenness_centrality = nx.betweenness_centrality(G)\n",
    "\n",
    "# Geometric potential mean\n",
    "from numpy import linalg as LA\n",
    "adj_karate = nx.to_pandas_adjacency(G)\n",
    "\n",
    "n = np.array(adj_karate.shape) #size(adj_karate,1);\n",
    "u = np.ones(n)\n",
    "eig, eigenvectors = LA.eig(adj_karate)\n",
    "alpha = 0.5 / max(abs(eig));\n",
    "\n",
    "raw_pgain = adj_karate*((np.eye(n[0],1)-alpha*adj_karate) / u) #%potential gain\n",
    "norm_pgain = pd.DataFrame(raw_pgain/sum(raw_pgain))\n",
    "\n",
    "def printMeasure(measure, lim = 3):\n",
    "    temp = []\n",
    "    \n",
    "    for _id in measure.keys():\n",
    "        temp.append((measure[_id], _id))\n",
    "    t = sorted(temp, reverse=True)\n",
    "    for i in t[:lim]:\n",
    "        print(i[1],\"-\", i[0])\n",
    "    print(\"----------\")\n",
    "    \n",
    "printMeasure(degree_centrality)\n",
    "printMeasure(betweenness_centrality)\n",
    "printMeasure(eigenvector_centrality)\n",
    "printMeasure(closeness_centrality)\n",
    "\n",
    "print(norm_pgain.max()[:3])"
   ]
  },
  {
   "cell_type": "markdown",
   "metadata": {},
   "source": [
    "Table 5.13: Normalised centrality measures for the karate club data set,\r\n",
    "with the top-3 scores for each measure, where id is the node identifier of a\r\n",
    "member of the karate club and score is the centrality measure.\r"
   ]
  },
  {
   "cell_type": "markdown",
   "metadata": {},
   "source": [
    "### 5.2.3 Power Laws and the 80-20 Rule\n"
   ]
  },
  {
   "cell_type": "markdown",
   "metadata": {},
   "source": [
    "**Example 5.8**. We consider a data set containing the degree distribution of\n",
    "inlinks for the web graph from a web crawl in 1999 of over 200 million nodes\n",
    "and 1.5 billion links, performed by researchers from AltaVista, Compaq, and\n",
    "IBM. The inlinks degree distribution for 1999 crawl is shown on the left-hand\n",
    "side of Figure 5.7, while the log-log plot (see Section 3.7) of the data set,\n",
    "after the application of logarithmic binning, is shown on the right-hand side\n",
    "of the figure. The exponent of the power law distribution fitted with linear\n",
    "regression to the log-log data results in α = 1.105, while the exponent fitted\n",
    "to logarithmically binned data results in α = 0.492. On the other hand, the maximum likelihood estimate of the exponent of the resulting power law\n",
    "distribution (see below) for the inlinks degree distribution is α = 0.500, with\n",
    "the lower bound of the scale parameter of X set to xmin = 1.0.\n"
   ]
  },
  {
   "cell_type": "code",
   "execution_count": null,
   "metadata": {},
   "outputs": [],
   "source": [
    "nbins = 10\n",
    "df = pd.read_csv('./data/ibm1.txt') #fifa\n",
    "print(df.head())\n",
    "\n",
    "\n",
    "x = df.index \n",
    "y = df['w']\n",
    "\n",
    "fig, ax = plt.subplots()\n",
    "bins=np.logspace(start=np.log10(1), stop=np.log10(30), num=10)\n",
    "(n, bins, part) = ax.hist(y, bins=bins)\n",
    "\n",
    "#print(bins, n)\n",
    "\n",
    "\n",
    "ax1 = plt.subplot2grid((1,2), (0,0))\n",
    "ax2 = plt.subplot2grid((1,2), (0,1))\n",
    "\n",
    "ax1.plot(bins[1:], n, color='r', linestyle='--',linewidth=2)\n",
    "ax1.set_xlabel('Inlink degree', fontsize=xlarge)\n",
    "ax1.set_ylabel('# Webpages', fontsize=xlarge)\n",
    "ax1.set_yscale('linear')\n",
    "ax1.set_xscale('linear')\n",
    "\n",
    "ax2.plot(df.index, df['w'], 'o', c='blue', alpha=0.05, markeredgecolor='none')\n",
    "ax2.set_xscale('log')\n",
    "ax2.set_yscale('log')\n",
    "ax2.set_xlabel('Log inlink degree', fontsize=xlarge)\n",
    "ax2.set_ylabel('log # Webpages', fontsize=xlarge)\n",
    "\n",
    "ax1.tick_params(axis='both', which='major', labelsize=xlarge)\n",
    "ax2.tick_params(axis='both', which='major', labelsize=xlarge)\n",
    "\n",
    "ax1.set_xlim([0, 40])\n",
    "ax2.set_xlim([1, 10**6])\n",
    "\n",
    "plt.tight_layout()"
   ]
  },
  {
   "cell_type": "markdown",
   "metadata": {},
   "source": [
    "Figure 5.7: The inlinks degree distribution plot (left) and the log-log plot\n",
    "(right) of the 1999 crawl data set.\n"
   ]
  },
  {
   "cell_type": "markdown",
   "metadata": {},
   "source": [
    "**Example 5.9**. A Pareto chart is a bar chart with the bars sorted in de\u0002scending order that also a line that shows the corresponding cumulative\r\n",
    "distribution. In particular, the Pareto chart shows the largest bars that\r\n",
    "contain, say, the 95% of the cumulative distribution. In Figure 5.8 we show\r\n",
    "the Pareto chart for the 1999 web crawl data set with a horizontal broken\r\n",
    "line at the 95% value of the cumulative distribution of inlinks.\r\n"
   ]
  },
  {
   "cell_type": "code",
   "execution_count": null,
   "metadata": {},
   "outputs": [],
   "source": [
    "# Carry out logarithmic binning on the data set and plot it on a log-log scale.!\n",
    "nbins = 10\n",
    "df = pd.read_csv('./data/ibm1.txt') #fifa\n",
    "\n",
    "#add column to display cumulative percentage\n",
    "df['cumperc'] = df['w'].cumsum()/df['w'].sum()*100\n",
    "print(df.head())\n",
    "\n",
    "#define aesthetics for plot\n",
    "color1 = 'steelblue'\n",
    "color2 = 'red'\n",
    "line_size = 4\n",
    "\n",
    "x = df.index \n",
    "y = df['w']\n",
    "\n",
    "#create basic bar plot\n",
    "fig, ax = plt.subplots()\n",
    "ax.hist(y, bins=np.logspace(start=np.log10(1), stop=np.log10(30), num=10))\n",
    "\n",
    "#add cumulative percentage line to plot\n",
    "ax2 = ax.twinx()\n",
    "print(df['cumperc'])\n",
    "ax2.plot(df.index, df['cumperc'], color=color2, marker=\"D\", ms=line_size)\n",
    "\n",
    "ax2.yaxis.set_major_formatter(PercentFormatter())\n",
    "ax2.axhline(95, ls=\"--\", color=\"k\", alpha=0.7)\n",
    "\n",
    "#specify axis colors\n",
    "ax.tick_params(axis='y', colors=color1)\n",
    "ax2.tick_params(axis='y', colors=color2)\n",
    "ax.set_ylabel(\"#Webpages\")\n",
    "ax.set_xlabel(\"Inlink degree\")\n",
    "\n",
    "ax.set_xlim([1, 30])\n",
    "plt.tight_layout()"
   ]
  },
  {
   "cell_type": "markdown",
   "metadata": {},
   "source": [
    "Figure 5.8: A Pareto chart for the 1999 crawl data set.\n"
   ]
  },
  {
   "cell_type": "markdown",
   "metadata": {},
   "source": [
    "### 5.2.4 SIS and SIR Models for the Spread of Disease"
   ]
  },
  {
   "cell_type": "markdown",
   "metadata": {},
   "source": [
    "**Example 5.10**. In Figure 5.9 we demonstrate the SIS model based on a\r\n",
    "365 day period, recorded on a daily basis, recorded on a daily basis, with a\r\n",
    "population size of N = 58, 500. Its model parameters include an initial group\r\n",
    "I(0) = 2 of infected individuals, a transmission rate per day of β = 0.259 and\r\n",
    "a recovery rate per day of γ = 0.045. Thus, in this case R0 = 0.259/0.045 =\r\n",
    "5.756. Table 5.14 shows the progression of the disease for the SIS model\r\n",
    "over the first 100 days.\r"
   ]
  },
  {
   "cell_type": "code",
   "execution_count": null,
   "metadata": {},
   "outputs": [],
   "source": [
    "Header = \" day, Susceptible, infectious, formula, error, % infected \"\n",
    "e=2.7182818284  # Euler's number (approx)\n",
    "\n",
    "\n",
    "def f(y, t, parm):             # returns the derrivative of f(t) (y)\n",
    "    I = y[0]                   # get the current value of y\n",
    "    plam,gammar, Npop = parm             # get the parameter\n",
    "    derivative = [plam*I*(1-I/Npop)] -gammar*I     # calculate the derrivative\n",
    "    return derivative\n",
    "\n",
    "plam = 0.2587      # growth rate at start (infections per day per infector)\n",
    "gammar = 0.045     # the daily probability of recovery from the virus\n",
    "Npop = 58500       # Total \"population\" (Hubei in thousands)\n",
    "I0 = 1.619         # Initial number of infected (hubei in thousdands)\n",
    "Finaltime = 365.    # The sumulation goes from time = 0 to here (in days)\n",
    "Increment = 1.0    # How often you want the result retured (in days)\n",
    "\n",
    "# Set up for the simulation \n",
    "parm = [plam,gammar, Npop]   #ODE solver wants a list of Parameters\n",
    "y0 = [I0]       #ODE also wants a list of initial values\n",
    "\n",
    "# Make an array of the times at which we want a solution\n",
    "times = np.arange(0.0, Finaltime, Increment)\n",
    "\n",
    "Solutions = odeint(f, y0, times, args=(parm,))\n",
    "\n",
    "lambdastar = plam - gammar\n",
    "Nstar=Npop*lambdastar/plam\n",
    "temp1 = []\n",
    "for i in range(len(times)): # printout and compare with actual solution\n",
    "    t = times[i]\n",
    "    I = Solutions[i,0]\n",
    "    S = Npop - I\n",
    "    val = Nstar/(1+(Nstar-I0)/I0 * e**(-1.0*lambdastar*t) ) # analytic solution\n",
    "    error = (val-I)/val\n",
    "    pinfect = I/Npop*100.0\n",
    "\n",
    "    temp1.append([t, S, I, I*(pinfect/100)])\n",
    "\n",
    "    # Just print a sample of parameters every 20 observations\n",
    "    if int(times[i]) % 20 == 0: \n",
    "        print([t, S, I, I*(pinfect/100)])\n",
    "        \n",
    "df1 = pd.DataFrame(temp1, columns=['T', 'Susceptible', 'Infectious', 'Infected'])\n",
    "print(df1.head(6))"
   ]
  },
  {
   "cell_type": "markdown",
   "metadata": {},
   "source": [
    "Table 5.14: A sample of the SIS model output showing the number of\n",
    "susceptible S(t), and the number of infected individuals I(t), both at time\n",
    "t."
   ]
  },
  {
   "cell_type": "code",
   "execution_count": null,
   "metadata": {},
   "outputs": [],
   "source": [
    "# SIR model\n",
    "from scipy.integrate import odeint\n",
    "\n",
    "N = 58500\n",
    "# Initial number of infected and recovered individuals, I0 and R0.\n",
    "I0, R0 = 1.619, 0.4\n",
    "# Everyone else, S0, is susceptible to infection initially.\n",
    "S0 = N - I0 - R0\n",
    "# Contact rate, beta, and mean recovery rate, gamma, (in 1/days).\n",
    "beta = 0.2 \n",
    "gamma = 1./10 \n",
    "\n",
    "#print(beta, gamma)\n",
    "# A grid of time points (in days)\n",
    "t = np.linspace(0, 365, 365)\n",
    "\n",
    "\n",
    "# The SIR model differential equations.\n",
    "def deriv(y, t, N, beta, gamma):\n",
    "    S, I, R = y\n",
    "    dSdt = -beta * S * I / N\n",
    "    dIdt = beta * S * I / N - gamma * I\n",
    "    dRdt = gamma * I\n",
    "    return dSdt, dIdt, dRdt\n",
    "\n",
    "# Initial conditions vector\n",
    "y0 = S0, I0, R0\n",
    "#print(\"S,I,R\",y0)\n",
    "\n",
    "# Integrate the SIR equations over the time grid, t.\n",
    "ret = odeint(deriv, y0, t, args=(N, beta, gamma))\n",
    "S, I, R = ret.T\n",
    "#print(S)\n",
    "temp2 = []\n",
    "for i in range(len(S)):\n",
    "    temp2.append([t[i],S[i], I[i], R[i]])\n",
    "    \n",
    "    # Print output every 20 rows\n",
    "    if int(t[i]) % 20 == 0: \n",
    "        print([t[i],S[i], I[i], R[i]])\n",
    "    \n",
    "    \n",
    "df2 = pd.DataFrame(temp2, columns=[\"T\", \"Susceptible\", \"Infected\", \"Recovered\"])\n",
    "print(df2.head(5))"
   ]
  },
  {
   "cell_type": "markdown",
   "metadata": {},
   "source": [
    "Table 5.15: A sample of the SIR model output for each of the parameters\n",
    "A sample of the SIR model output showing the number of susceptible S(t),\n",
    "the number of infected I(t), and the number of recovered individuals R(t),\n",
    "all at time t."
   ]
  },
  {
   "cell_type": "code",
   "execution_count": null,
   "metadata": {},
   "outputs": [],
   "source": [
    "# Plot the SIS data on three separate curves for S(t), I(t) and R(t)\n",
    "df2 = pd.DataFrame(temp2, columns=[\"T\", \"Susceptible\", \"Infected\", \"Recovered\"])\n",
    "\n",
    "fig = plt.figure(facecolor='w')\n",
    "\n",
    "ax = fig.add_subplot(111, axisbelow=True)\n",
    "ax.plot(t, S, 'b', alpha=0.8, lw=3.5, label='Susceptible')\n",
    "ax.plot(t, I, 'r', alpha=0.8, lw=3.5, label='Infected')\n",
    "ax.plot(t, R, 'g', alpha=0.8, lw=3.5, label='Recovered')\n",
    "\n",
    "ax.set_xlabel('Time (days)')\n",
    "ax.set_ylabel('Number ')\n",
    "\n",
    "ax.yaxis.set_tick_params(length=0)\n",
    "ax.xaxis.set_tick_params(length=0)\n",
    "\n",
    "legend = ax.legend()"
   ]
  },
  {
   "cell_type": "markdown",
   "metadata": {},
   "source": [
    "Figure 5.9: A plot showing the dynamics of the SIS model, where the x-axis\n",
    "is time in days and the y-axis is the number of individuals in a compartment;\n",
    "blue=susceptible and red=infected."
   ]
  },
  {
   "cell_type": "code",
   "execution_count": null,
   "metadata": {},
   "outputs": [],
   "source": [
    "# Plot SIR model\n",
    "ax = df1[['Susceptible', 'Infected']].plot(alpha=0.8, lw=3.5)\n",
    "ax.set_ylabel('Number')\n",
    "ax.set_xlabel('Time (days)')"
   ]
  },
  {
   "cell_type": "markdown",
   "metadata": {},
   "source": [
    "Figure 5.10: A plot showing the dynamics of the SIR model, where the\r\n",
    "x-axis is time in days and the y-axis is the number of individuals in a com\u0002partment; blue=susceptible, red=infected and green=recovered.\r"
   ]
  },
  {
   "attachments": {
    "f9814334-1349-42d0-89b5-a0be385e6036.PNG": {
     "image/png": "[encoded data removed]"
    }
   },
   "cell_type": "markdown",
   "metadata": {},
   "source": [
    "![SIS_model_transfer_diagram.PNG](attachment:f9814334-1349-42d0-89b5-a0be385e6036.PNG)"
   ]
  },
  {
   "cell_type": "markdown",
   "metadata": {},
   "source": [
    "Figure 5.11: Transfer diagram for the SIS compartmental model."
   ]
  },
  {
   "attachments": {
    "715a31b5-425e-4dec-87c3-5dd21d614a9e.png": {
     "image/png": "[encoded data removed]"
    }
   },
   "cell_type": "markdown",
   "metadata": {},
   "source": [
    "![SIR_model_transfer_diagram.png](attachment:715a31b5-425e-4dec-87c3-5dd21d614a9e.png)"
   ]
  },
  {
   "cell_type": "markdown",
   "metadata": {},
   "source": [
    "Figure 5.12: Transfer diagram for the SIR compartmental model.\r"
   ]
  },
  {
   "cell_type": "markdown",
   "metadata": {},
   "source": [
    "## 5.3 Sentiment Analysis, Named Entity Recognition and Word Embeddings"
   ]
  },
  {
   "cell_type": "markdown",
   "metadata": {},
   "source": [
    "### 5.3.1 Sentiment Analysis\n"
   ]
  },
  {
   "cell_type": "markdown",
   "metadata": {},
   "source": [
    "**Example 5.11**. We apply sentiment analysis to a movie review data set,\r\n",
    "containing reviews collated from three different sources including IMDB,\r\n",
    "Amazon and Yelp, where each collection of reviews is composed of 500 pos\u0002itive and 500 negative sentences, labelled as 0 or 1, respectively. We apply\r\n",
    "sentiment analysis to a sample of 1,000 reviews using naive Bayes classifier\r\n",
    "as the machine learning algorithm; the model was trained without a lexicon.\r\n",
    "The test set is labelled by the classifer with sentiment values ranging from\r\n",
    "-1 to 1, where -1 is negative, 0 is neutral, and 1 is positive sentiment. A\r\n",
    "sample of the sentiment output from the classifier is shown in Table 5.16.\r\n"
   ]
  },
  {
   "cell_type": "code",
   "execution_count": null,
   "metadata": {},
   "outputs": [],
   "source": [
    "sia = SentimentIntensityAnalyzer()\n",
    "\n",
    "fileinput = \"./data/imdb_labelled.txt\"\n",
    "\n",
    "temp = []\n",
    "for row in open(fileinput).readlines():\n",
    "    sent, score = row.split('\\t')\n",
    "    score = score.replace(\"\\n\",\"\")\n",
    "    temp.append([score, sent])\n",
    "    \n",
    "df = pd.DataFrame(temp, columns=['Score', 'Sentence'])\n",
    "\n",
    "print(df.head(5))"
   ]
  },
  {
   "cell_type": "markdown",
   "metadata": {},
   "source": [
    "Table 5.16: A sample of sentences from the data set with the learned\n",
    "sentiment in the first column, and the text representing the sentence in the\n",
    "second column."
   ]
  },
  {
   "cell_type": "markdown",
   "metadata": {},
   "source": [
    "### 5.3.2 Named Entity Recognition\n"
   ]
  },
  {
   "cell_type": "markdown",
   "metadata": {},
   "source": [
    "**Example 5.12**. We make use of a data set, known as the CoNLL-2002\n",
    "(Conference on Computational Natural Language Learning) named entity\n",
    "data set, which consists of text documents covering news topics with labels\n",
    "(also known as tags in his context) for each word, encoding whether the word\n",
    "is a type of named entity. Words tagged with O (denoting the Other class),\n",
    "are not considered to be named entities. The data set provides four types\n",
    "of named entities: (i) Per (denoting the Person class), (ii) Org (denoting the organisation class), (iii) Loc (denoting the location class) and (iv) Misc\r\n",
    "(denoting miscellaneous names), which are those that have been identified\r\n",
    "as named entities, but are not part of the labelling schema. A sample of\r\n",
    "sentences from the test data set together with their annotations, is shown\r\n",
    "in Table 5.17; the model was trained and tested on the CoNLL-2002 data\r\n",
    "set, with a 67-33 split.\n"
   ]
  },
  {
   "cell_type": "code",
   "execution_count": null,
   "metadata": {},
   "outputs": [],
   "source": [
    "nltk.corpus.conll2002.fileids()\n",
    "\n",
    "train_sents = list(nltk.corpus.conll2002.iob_sents('esp.train'))\n",
    "test_sents = list(nltk.corpus.conll2002.iob_sents('esp.testb'))\n",
    "\n",
    "train_sents[0]\n",
    "\n",
    "def word2features(sent, i):\n",
    "    word = sent[i][0]\n",
    "    postag = sent[i][1]\n",
    "\n",
    "    features = {\n",
    "        'bias': 1.0,\n",
    "        'word.lower()': word.lower(),\n",
    "        'word[-3:]': word[-3:],\n",
    "        'word[-2:]': word[-2:],\n",
    "        'word.isupper()': word.isupper(),\n",
    "        'word.istitle()': word.istitle(),\n",
    "        'word.isdigit()': word.isdigit(),\n",
    "        'postag': postag,\n",
    "        'postag[:2]': postag[:2],\n",
    "    }\n",
    "    if i > 0:\n",
    "        word1 = sent[i-1][0]\n",
    "        postag1 = sent[i-1][1]\n",
    "        features.update({\n",
    "            '-1:word.lower()': word1.lower(),\n",
    "            '-1:word.istitle()': word1.istitle(),\n",
    "            '-1:word.isupper()': word1.isupper(),\n",
    "            '-1:postag': postag1,\n",
    "            '-1:postag[:2]': postag1[:2],\n",
    "        })\n",
    "    else:\n",
    "        features['BOS'] = True\n",
    "\n",
    "    if i < len(sent)-1:\n",
    "        word1 = sent[i+1][0]\n",
    "        postag1 = sent[i+1][1]\n",
    "        features.update({\n",
    "            '+1:word.lower()': word1.lower(),\n",
    "            '+1:word.istitle()': word1.istitle(),\n",
    "            '+1:word.isupper()': word1.isupper(),\n",
    "            '+1:postag': postag1,\n",
    "            '+1:postag[:2]': postag1[:2],\n",
    "        })\n",
    "    else:\n",
    "        features['EOS'] = True\n",
    "\n",
    "    return features\n",
    "\n",
    "\n",
    "def sent2features(sent):\n",
    "    return [word2features(sent, i) for i in range(len(sent))]\n",
    "\n",
    "def sent2labels(sent):\n",
    "    return [label for token, postag, label in sent]\n",
    "\n",
    "def sent2tokens(sent):\n",
    "    return [token for token, postag, label in sent]\n",
    "\n",
    "sent2features(train_sents[0])[0]\n",
    "\n",
    "X_train = [sent2features(s) for s in train_sents]\n",
    "y_train = [sent2labels(s) for s in train_sents]\n",
    "\n",
    "X_test = [sent2features(s) for s in test_sents]\n",
    "y_test = [sent2labels(s) for s in test_sents]\n",
    "\n",
    "\n",
    "crf = sklearn_crfsuite.CRF(\n",
    "    algorithm='lbfgs',\n",
    "    c1=0.1,\n",
    "    c2=0.1,\n",
    "    max_iterations=100,\n",
    "    all_possible_transitions=True\n",
    ")\n",
    "crf.fit(X_train, y_train)\n",
    "\n",
    "labels = list(crf.classes_)\n",
    "labels.remove('O')\n",
    "labels\n",
    "\n",
    "y_pred = crf.predict(X_test)\n",
    "\n",
    "print(train_sents[0])\n",
    "print(y_pred[0])"
   ]
  },
  {
   "cell_type": "markdown",
   "metadata": {},
   "source": [
    "Table 5.17: A sample of sentences from the CONLL-2002 data set, anno\u0002tated with their named entities"
   ]
  },
  {
   "cell_type": "markdown",
   "metadata": {},
   "source": [
    "### 5.3.3 Word Embeddings\n"
   ]
  },
  {
   "cell_type": "markdown",
   "metadata": {},
   "source": [
    "**Example 5.13**. Here we explore word embeddings generated by word2vec\r\n",
    "from a corpus containing 100 billion words from a large snapshot of the\r\n",
    "Google News data set. Table 5.18 shows ten words related to king together\r\n",
    "with their cosine similarity scores. A visualisation of this small sample of\r\n",
    "word embeddings in two-dimensional vector space, where the algorithm that\r\n",
    "created the visualisation strives to maintain the cosine similarity between\r\n",
    "the embeddings, is shown in Figure 5.15."
   ]
  },
  {
   "attachments": {
    "f883048a-c493-4568-b438-b6765232c2e9.png": {
     "image/png": "[encoded data removed]"
    }
   },
   "cell_type": "markdown",
   "metadata": {},
   "source": [
    "![example5_wordembedding_diagram.png](attachment:f883048a-c493-4568-b438-b6765232c2e9.png)"
   ]
  },
  {
   "cell_type": "markdown",
   "metadata": {},
   "source": [
    "Figure 5.13: The skip-gram word2vec neural network architecture.\n"
   ]
  },
  {
   "attachments": {
    "2ae3d11a-3b80-420a-8bed-a7ab7c73d264.PNG": {
     "image/png": "[encoded data removed]"
    }
   },
   "cell_type": "markdown",
   "metadata": {},
   "source": [
    "![example5_cbow.PNG](attachment:2ae3d11a-3b80-420a-8bed-a7ab7c73d264.PNG)"
   ]
  },
  {
   "cell_type": "markdown",
   "metadata": {},
   "source": [
    "Figure 5.14: The CBOW word2vec neural network architecture."
   ]
  },
  {
   "cell_type": "markdown",
   "metadata": {},
   "source": [
    "### Download Glove Pre-trained word vectors Wikipedia 2014 (331MB)\n",
    "**Note**: You may wish to <a href=\"https://nlp.stanford.edu/data/glove.6B.zip\">download the data set</a> via a web browser if you experience connectivity issues due to the large file size."
   ]
  },
  {
   "cell_type": "code",
   "execution_count": null,
   "metadata": {},
   "outputs": [],
   "source": [
    "url = \"https://nlp.stanford.edu/data/glove.6B.zip\"\n",
    "output_folder = \"./data/\"\n",
    "download_and_unzip(url, output_folder)"
   ]
  },
  {
   "cell_type": "code",
   "execution_count": null,
   "metadata": {},
   "outputs": [],
   "source": [
    "def find_similar_word(embedes):\n",
    "  temp = []\n",
    "  wordlist = sorted(embed_dict.keys(), key=lambda word: spatial.distance.cosine(embed_dict[word], embedes))[:10]\n",
    "  for word in sorted(embed_dict.keys()):  \n",
    "      if word in wordlist:\n",
    "          score = spatial.distance.cosine(embed_dict[word], embedes)          \n",
    "          temp.append([score, word])\n",
    "      else: continue\n",
    "  return sorted(temp, reverse=True)\n",
    "\n",
    "embed_dict = {}\n",
    "\n",
    "with open('./data/glove6B200d.txt','rb') as f:\n",
    "  for line in f:\n",
    "    values = line.split()\n",
    "    word = values[0]\n",
    "    vector = np.asarray(values[1:],'float32')\n",
    "    embed_dict[word]=vector\n",
    "\n",
    "for score, word in find_similar_word(embed_dict[b'king']):\n",
    "    print(\"KING\", word, score)\n"
   ]
  },
  {
   "cell_type": "markdown",
   "metadata": {},
   "source": [
    "Table 5.18: Ten words similar to king, with their cosine similarity scores."
   ]
  },
  {
   "cell_type": "code",
   "execution_count": null,
   "metadata": {},
   "outputs": [],
   "source": [
    "import tensorflow as tf\n",
    "from tensorflow.keras.models import Sequential\n",
    "from tensorflow.keras.layers import Dense, Embedding, Lambda\n",
    "from tensorflow.keras.preprocessing.text import Tokenizer\n",
    "import numpy as np\n",
    "import matplotlib.pyplot as plt\n",
    "from sklearn.decomposition import PCA\n",
    "\n",
    "# Define the corpus\n",
    "f = open(\"./data/embedding_corpus.txt\", \"rb\")\n",
    "data = f.read()\n",
    "f.close()\n",
    "\n",
    "corpus = data.decode(\"utf8\").lower().split(\" \")\n",
    "\n",
    "# Convert the corpus to a sequence of integers\n",
    "tokenizer = Tokenizer()\n",
    "tokenizer.fit_on_texts(corpus)\n",
    "sequences = tokenizer.texts_to_sequences(corpus)\n",
    "\n",
    "# Define the parameters\n",
    "vocab_size = len(tokenizer.word_index) + 1\n",
    "embedding_size = 10\n",
    "window_size = 2\n",
    "\n",
    "# Generate the context-target pairs\n",
    "contexts = []\n",
    "targets = []\n",
    "for sequence in sequences:\n",
    "    for i in range(window_size, len(sequence) - window_size):\n",
    "        context = sequence[i - window_size:i] + sequence[i + 1: i + window_size + 1]\n",
    "        target = sequence[i]\n",
    "        #print(target)\n",
    "        contexts.append(context)\n",
    "        targets.append(target)\n",
    "\n",
    "# Convert the contexts and targets to numpy arrays\n",
    "X = np.array(contexts)\n",
    "\n",
    "# Define the CBOW model\n",
    "model = Sequential()\n",
    "model.add(Embedding(input_dim=vocab_size,\n",
    "\t\t\t\t\toutput_dim=embedding_size,\n",
    "\t\t\t\t\tinput_length=2*window_size))\n",
    "model.add(Lambda(lambda x: tf.reduce_mean(x, axis=1)))\n",
    "model.add(Dense(units=vocab_size, activation='softmax'))\n",
    "model.save_weights('cbow_weights.h5')\n",
    "\n",
    "\n",
    "# Load the pre-trained weights\n",
    "model.load_weights('cbow_weights.h5')\n",
    "\n",
    "# Get the word embeddings\n",
    "embeddings = model.get_weights()[0]\n",
    "\n",
    "keywords = ['king', 'queen', 'monarch', 'prince', 'sultan','ruler', 'princess', 'throne', 'crown']#, 'kings']\n",
    "\n",
    "\n",
    "# Perform PCA to reduce the dimensionality\n",
    "# of the embeddings\n",
    "pca = PCA(n_components=2)\n",
    "reduced_embeddings = pca.fit_transform(embeddings)\n",
    "\n",
    "fsize = 16\n",
    "offsetX = 0\n",
    "offsetY = 0\n",
    "\n",
    "# Visualise the embeddings\n",
    "plt.figure(figsize=(10, 10))\n",
    "for i, word in enumerate(tokenizer.word_index.keys()):\n",
    "    if word not in keywords: continue\n",
    "    x, y = reduced_embeddings[i]\n",
    "\n",
    "    \n",
    "    plt.xlim(-0.06, 0.06)\n",
    "    plt.ylim(-0.06, 0.06)\n",
    "    plt.xlabel(\"1st component\", fontsize=fsize)\n",
    "    plt.ylabel(\"2nd component\", fontsize=fsize)\n",
    "    plt.scatter(x, y)\n",
    "    plt.annotate(word.title(), xy=(x+offsetX, y+offsetY), xytext=(5, 2),\n",
    "\t\t\t\ttextcoords='offset points',\n",
    "                ha='right', va='bottom', fontsize=fsize)\n",
    "\n",
    "plt.tight_layout()   "
   ]
  },
  {
   "cell_type": "markdown",
   "metadata": {},
   "source": [
    "Figure 5.15: A visualisation of a small sample of word embeddings in two\u0002dimensional vector space, which strives to maintain the cosine similarity\n",
    "between the embeddings."
   ]
  },
  {
   "cell_type": "code",
   "execution_count": null,
   "metadata": {},
   "outputs": [],
   "source": [
    " "
   ]
  }
 ],
 "metadata": {
  "kernelspec": {
   "display_name": "Python 3 (ipykernel)",
   "language": "python",
   "name": "python3"
  },
  "language_info": {
   "codemirror_mode": {
    "name": "ipython",
    "version": 3
   },
   "file_extension": ".py",
   "mimetype": "text/x-python",
   "name": "python",
   "nbconvert_exporter": "python",
   "pygments_lexer": "ipython3",
   "version": "3.10.11"
  }
 },
 "nbformat": 4,
 "nbformat_minor": 4
}
